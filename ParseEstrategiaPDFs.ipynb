{
 "cells": [
  {
   "cell_type": "code",
   "execution_count": 8,
   "id": "70de369d",
   "metadata": {},
   "outputs": [
    {
     "name": "stdout",
     "output_type": "stream",
     "text": [
      "Collecting PdfReader\n",
      "  Downloading pdfreader-0.1.12.tar.gz (2.9 MB)\n",
      "     ---------------------------------------- 0.0/2.9 MB ? eta -:--:--\n",
      "     ---------------------------------------- 0.0/2.9 MB ? eta -:--:--\n",
      "     ---------------------------------------- 0.0/2.9 MB 330.3 kB/s eta 0:00:09\n",
      "      --------------------------------------- 0.1/2.9 MB 365.7 kB/s eta 0:00:08\n",
      "     - -------------------------------------- 0.1/2.9 MB 595.3 kB/s eta 0:00:05\n",
      "     -- ------------------------------------- 0.2/2.9 MB 700.2 kB/s eta 0:00:04\n",
      "     --- ------------------------------------ 0.2/2.9 MB 850.1 kB/s eta 0:00:04\n",
      "     ----- ---------------------------------- 0.4/2.9 MB 1.2 MB/s eta 0:00:03\n",
      "     ------- -------------------------------- 0.5/2.9 MB 1.3 MB/s eta 0:00:02\n",
      "     ---------- ----------------------------- 0.7/2.9 MB 1.8 MB/s eta 0:00:02\n",
      "     -------------- ------------------------- 1.0/2.9 MB 2.3 MB/s eta 0:00:01\n",
      "     -------------- ------------------------- 1.0/2.9 MB 2.2 MB/s eta 0:00:01\n",
      "     -------------- ------------------------- 1.0/2.9 MB 2.2 MB/s eta 0:00:01\n",
      "     -------------- ------------------------- 1.0/2.9 MB 2.2 MB/s eta 0:00:01\n",
      "     -------------- ------------------------- 1.0/2.9 MB 2.2 MB/s eta 0:00:01\n",
      "     -------------------- ------------------- 1.4/2.9 MB 2.0 MB/s eta 0:00:01\n",
      "     --------------------------- ------------ 2.0/2.9 MB 2.6 MB/s eta 0:00:01\n",
      "     ------------------------------- -------- 2.3/2.9 MB 2.8 MB/s eta 0:00:01\n",
      "     ----------------------------------- ---- 2.5/2.9 MB 3.0 MB/s eta 0:00:01\n",
      "     ---------------------------------------- 2.9/2.9 MB 3.3 MB/s eta 0:00:00\n",
      "  Preparing metadata (setup.py): started\n",
      "  Preparing metadata (setup.py): finished with status 'done'\n",
      "Collecting bitarray>=1.1.0 (from PdfReader)\n",
      "  Downloading bitarray-2.9.2-cp311-cp311-win_amd64.whl.metadata (35 kB)\n",
      "Collecting pillow>=7.1.0 (from PdfReader)\n",
      "  Downloading pillow-10.2.0-cp311-cp311-win_amd64.whl.metadata (9.9 kB)\n",
      "Collecting pycryptodome>=3.9.9 (from PdfReader)\n",
      "  Downloading pycryptodome-3.20.0-cp35-abi3-win_amd64.whl.metadata (3.4 kB)\n",
      "Requirement already satisfied: python-dateutil>=2.8.1 in c:\\users\\weder\\anaconda3\\envs\\ripestrategia\\lib\\site-packages (from PdfReader) (2.8.2)\n",
      "Requirement already satisfied: six>=1.5 in c:\\users\\weder\\anaconda3\\envs\\ripestrategia\\lib\\site-packages (from python-dateutil>=2.8.1->PdfReader) (1.16.0)\n",
      "Downloading bitarray-2.9.2-cp311-cp311-win_amd64.whl (126 kB)\n",
      "   ---------------------------------------- 0.0/126.0 kB ? eta -:--:--\n",
      "   ---------------------------------------- 126.0/126.0 kB 7.2 MB/s eta 0:00:00\n",
      "Downloading pillow-10.2.0-cp311-cp311-win_amd64.whl (2.6 MB)\n",
      "   ---------------------------------------- 0.0/2.6 MB ? eta -:--:--\n",
      "   --------- ------------------------------ 0.6/2.6 MB 12.4 MB/s eta 0:00:01\n",
      "   ----------------- ---------------------- 1.1/2.6 MB 12.1 MB/s eta 0:00:01\n",
      "   ------------------------- -------------- 1.7/2.6 MB 12.0 MB/s eta 0:00:01\n",
      "   ---------------------------------- ----- 2.2/2.6 MB 11.9 MB/s eta 0:00:01\n",
      "   ---------------------------------------- 2.6/2.6 MB 11.2 MB/s eta 0:00:00\n",
      "Downloading pycryptodome-3.20.0-cp35-abi3-win_amd64.whl (1.8 MB)\n",
      "   ---------------------------------------- 0.0/1.8 MB ? eta -:--:--\n",
      "   ---------- ----------------------------- 0.5/1.8 MB 15.2 MB/s eta 0:00:01\n",
      "   ---------------------- ----------------- 1.0/1.8 MB 12.5 MB/s eta 0:00:01\n",
      "   ---------------------------------- ----- 1.5/1.8 MB 12.1 MB/s eta 0:00:01\n",
      "   ---------------------------------------- 1.8/1.8 MB 10.2 MB/s eta 0:00:00\n",
      "Building wheels for collected packages: PdfReader\n",
      "  Building wheel for PdfReader (setup.py): started\n",
      "  Building wheel for PdfReader (setup.py): finished with status 'done'\n",
      "  Created wheel for PdfReader: filename=pdfreader-0.1.12-py3-none-any.whl size=134565 sha256=c6a5d001a3a55c8c0f907ae1a9cc61f7826acb3550f7918832b1eb4a76fa95dd\n",
      "  Stored in directory: c:\\users\\weder\\appdata\\local\\pip\\cache\\wheels\\ae\\2a\\d7\\534c5ec691eece18000ef93a0daedf20821730e771cca259d5\n",
      "Successfully built PdfReader\n",
      "Installing collected packages: bitarray, pycryptodome, pillow, PdfReader\n",
      "Successfully installed PdfReader-0.1.12 bitarray-2.9.2 pillow-10.2.0 pycryptodome-3.20.0\n"
     ]
    }
   ],
   "source": [
    "!pip install PdfReader"
   ]
  },
  {
   "cell_type": "code",
   "execution_count": 10,
   "id": "69eb8c71",
   "metadata": {},
   "outputs": [],
   "source": [
    "import pandas as pd\n",
    "import os\n",
    "from pdfreader import SimplePDFViewer\n"
   ]
  },
  {
   "cell_type": "code",
   "execution_count": 7,
   "id": "8d785e6b",
   "metadata": {},
   "outputs": [
    {
     "ename": "DeprecationError",
     "evalue": "PdfFileReader is deprecated and was removed in PyPDF2 3.0.0. Use PdfReader instead.",
     "output_type": "error",
     "traceback": [
      "\u001b[1;31m---------------------------------------------------------------------------\u001b[0m",
      "\u001b[1;31mDeprecationError\u001b[0m                          Traceback (most recent call last)",
      "Cell \u001b[1;32mIn[7], line 38\u001b[0m\n\u001b[0;32m     35\u001b[0m \u001b[38;5;66;03m# Exemplo de uso da função\u001b[39;00m\n\u001b[0;32m     36\u001b[0m caminho_da_pasta \u001b[38;5;241m=\u001b[39m \u001b[38;5;124m'\u001b[39m\u001b[38;5;124mC:\u001b[39m\u001b[38;5;130;01m\\\\\u001b[39;00m\u001b[38;5;124mUsers\u001b[39m\u001b[38;5;130;01m\\\\\u001b[39;00m\u001b[38;5;124mweder\u001b[39m\u001b[38;5;130;01m\\\\\u001b[39;00m\u001b[38;5;124mDocuments\u001b[39m\u001b[38;5;130;01m\\\\\u001b[39;00m\u001b[38;5;124mRipEstrategia\u001b[39m\u001b[38;5;130;01m\\\\\u001b[39;00m\u001b[38;5;124mCNU - Eixo Temático 5 - Direito do Trabalho\u001b[39m\u001b[38;5;130;01m\\\\\u001b[39;00m\u001b[38;5;124mAula 01 - Prof. Antonio Daud\u001b[39m\u001b[38;5;124m'\u001b[39m\n\u001b[1;32m---> 38\u001b[0m pagina_questoes \u001b[38;5;241m=\u001b[39m encontrar_pagina_questoes(caminho_da_pasta)\n\u001b[0;32m     40\u001b[0m \u001b[38;5;28;01mif\u001b[39;00m pagina_questoes \u001b[38;5;129;01mis\u001b[39;00m \u001b[38;5;129;01mnot\u001b[39;00m \u001b[38;5;28;01mNone\u001b[39;00m:\n\u001b[0;32m     41\u001b[0m     \u001b[38;5;28mprint\u001b[39m(\u001b[38;5;124m\"\u001b[39m\u001b[38;5;124mA página onde \u001b[39m\u001b[38;5;124m'\u001b[39m\u001b[38;5;124mQuestões\u001b[39m\u001b[38;5;124m'\u001b[39m\u001b[38;5;124m foi encontrado é:\u001b[39m\u001b[38;5;124m\"\u001b[39m, pagina_questoes)\n",
      "Cell \u001b[1;32mIn[7], line 16\u001b[0m, in \u001b[0;36mencontrar_pagina_questoes\u001b[1;34m(caminho_da_pasta)\u001b[0m\n\u001b[0;32m     14\u001b[0m \u001b[38;5;66;03m# Abrir o arquivo PDF\u001b[39;00m\n\u001b[0;32m     15\u001b[0m \u001b[38;5;28;01mwith\u001b[39;00m \u001b[38;5;28mopen\u001b[39m(caminho_completo, \u001b[38;5;124m'\u001b[39m\u001b[38;5;124mrb\u001b[39m\u001b[38;5;124m'\u001b[39m) \u001b[38;5;28;01mas\u001b[39;00m pdf_file:\n\u001b[1;32m---> 16\u001b[0m     pdf_reader \u001b[38;5;241m=\u001b[39m PyPDF2\u001b[38;5;241m.\u001b[39mPdfFileReader(pdf_file)\n\u001b[0;32m     18\u001b[0m     \u001b[38;5;66;03m# Iterar sobre todas as páginas do PDF\u001b[39;00m\n\u001b[0;32m     19\u001b[0m     \u001b[38;5;28;01mfor\u001b[39;00m pagina_num \u001b[38;5;129;01min\u001b[39;00m \u001b[38;5;28mrange\u001b[39m(pdf_reader\u001b[38;5;241m.\u001b[39mnumPages):\n",
      "File \u001b[1;32m~\\anaconda3\\envs\\RipEstrategia\\Lib\\site-packages\\PyPDF2\\_reader.py:1974\u001b[0m, in \u001b[0;36mPdfFileReader.__init__\u001b[1;34m(self, *args, **kwargs)\u001b[0m\n\u001b[0;32m   1973\u001b[0m \u001b[38;5;28;01mdef\u001b[39;00m \u001b[38;5;21m__init__\u001b[39m(\u001b[38;5;28mself\u001b[39m, \u001b[38;5;241m*\u001b[39margs: Any, \u001b[38;5;241m*\u001b[39m\u001b[38;5;241m*\u001b[39mkwargs: Any) \u001b[38;5;241m-\u001b[39m\u001b[38;5;241m>\u001b[39m \u001b[38;5;28;01mNone\u001b[39;00m:\n\u001b[1;32m-> 1974\u001b[0m     deprecation_with_replacement(\u001b[38;5;124m\"\u001b[39m\u001b[38;5;124mPdfFileReader\u001b[39m\u001b[38;5;124m\"\u001b[39m, \u001b[38;5;124m\"\u001b[39m\u001b[38;5;124mPdfReader\u001b[39m\u001b[38;5;124m\"\u001b[39m, \u001b[38;5;124m\"\u001b[39m\u001b[38;5;124m3.0.0\u001b[39m\u001b[38;5;124m\"\u001b[39m)\n\u001b[0;32m   1975\u001b[0m     \u001b[38;5;28;01mif\u001b[39;00m \u001b[38;5;124m\"\u001b[39m\u001b[38;5;124mstrict\u001b[39m\u001b[38;5;124m\"\u001b[39m \u001b[38;5;129;01mnot\u001b[39;00m \u001b[38;5;129;01min\u001b[39;00m kwargs \u001b[38;5;129;01mand\u001b[39;00m \u001b[38;5;28mlen\u001b[39m(args) \u001b[38;5;241m<\u001b[39m \u001b[38;5;241m2\u001b[39m:\n\u001b[0;32m   1976\u001b[0m         kwargs[\u001b[38;5;124m\"\u001b[39m\u001b[38;5;124mstrict\u001b[39m\u001b[38;5;124m\"\u001b[39m] \u001b[38;5;241m=\u001b[39m \u001b[38;5;28;01mTrue\u001b[39;00m  \u001b[38;5;66;03m# maintain the default\u001b[39;00m\n",
      "File \u001b[1;32m~\\anaconda3\\envs\\RipEstrategia\\Lib\\site-packages\\PyPDF2\\_utils.py:369\u001b[0m, in \u001b[0;36mdeprecation_with_replacement\u001b[1;34m(old_name, new_name, removed_in)\u001b[0m\n\u001b[0;32m    363\u001b[0m \u001b[38;5;28;01mdef\u001b[39;00m \u001b[38;5;21mdeprecation_with_replacement\u001b[39m(\n\u001b[0;32m    364\u001b[0m     old_name: \u001b[38;5;28mstr\u001b[39m, new_name: \u001b[38;5;28mstr\u001b[39m, removed_in: \u001b[38;5;28mstr\u001b[39m \u001b[38;5;241m=\u001b[39m \u001b[38;5;124m\"\u001b[39m\u001b[38;5;124m3.0.0\u001b[39m\u001b[38;5;124m\"\u001b[39m\n\u001b[0;32m    365\u001b[0m ) \u001b[38;5;241m-\u001b[39m\u001b[38;5;241m>\u001b[39m \u001b[38;5;28;01mNone\u001b[39;00m:\n\u001b[0;32m    366\u001b[0m \u001b[38;5;250m    \u001b[39m\u001b[38;5;124;03m\"\"\"\u001b[39;00m\n\u001b[0;32m    367\u001b[0m \u001b[38;5;124;03m    Raise an exception that a feature was already removed, but has a replacement.\u001b[39;00m\n\u001b[0;32m    368\u001b[0m \u001b[38;5;124;03m    \"\"\"\u001b[39;00m\n\u001b[1;32m--> 369\u001b[0m     deprecation(DEPR_MSG_HAPPENED\u001b[38;5;241m.\u001b[39mformat(old_name, removed_in, new_name))\n",
      "File \u001b[1;32m~\\anaconda3\\envs\\RipEstrategia\\Lib\\site-packages\\PyPDF2\\_utils.py:351\u001b[0m, in \u001b[0;36mdeprecation\u001b[1;34m(msg)\u001b[0m\n\u001b[0;32m    350\u001b[0m \u001b[38;5;28;01mdef\u001b[39;00m \u001b[38;5;21mdeprecation\u001b[39m(msg: \u001b[38;5;28mstr\u001b[39m) \u001b[38;5;241m-\u001b[39m\u001b[38;5;241m>\u001b[39m \u001b[38;5;28;01mNone\u001b[39;00m:\n\u001b[1;32m--> 351\u001b[0m     \u001b[38;5;28;01mraise\u001b[39;00m DeprecationError(msg)\n",
      "\u001b[1;31mDeprecationError\u001b[0m: PdfFileReader is deprecated and was removed in PyPDF2 3.0.0. Use PdfReader instead."
     ]
    }
   ],
   "source": [
    "def encontrar_pagina_questoes(caminho_da_pasta):\n",
    "    # Lista para armazenar informações sobre os arquivos PDF\n",
    "    arquivos_pdf = []\n",
    "\n",
    "    # Percorrer a pasta em busca de arquivos PDF\n",
    "    for arquivo in os.listdir(caminho_da_pasta):\n",
    "        if arquivo.endswith('.pdf'):\n",
    "            arquivos_pdf.append(arquivo)\n",
    "\n",
    "    # Percorrer cada arquivo PDF encontrado\n",
    "    for arquivo_pdf in arquivos_pdf:\n",
    "        caminho_completo = os.path.join(caminho_da_pasta, arquivo_pdf)\n",
    "        \n",
    "        # Abrir o arquivo PDF\n",
    "        with open(caminho_completo, 'rb') as pdf_file:\n",
    "            pdf_reader = PyPDF2.PdfFileReader(pdf_file)\n",
    "            \n",
    "            # Iterar sobre todas as páginas do PDF\n",
    "            for pagina_num in range(pdf_reader.numPages):\n",
    "                pagina = pdf_reader.getPage(pagina_num)\n",
    "                texto = pagina.extractText()\n",
    "                \n",
    "                # Procurar por 'Questões' no sumário ou índice\n",
    "                if 'Questões' in texto:\n",
    "                    # Obter o número da página onde 'Questões' foi encontrado\n",
    "                    numero_pagina = pagina_num + 1\n",
    "                    print(f\"No arquivo {arquivo_pdf}, 'Questões' foi encontrado na página {numero_pagina}.\")\n",
    "                    # Retornar o número da página\n",
    "                    return numero_pagina\n",
    "    \n",
    "    # Se 'Questões' não for encontrado em nenhum arquivo\n",
    "    print(\"Nenhum arquivo PDF na pasta contém 'Questões' no sumário ou índice.\")\n",
    "    return None\n",
    "\n",
    "# Exemplo de uso da função\n",
    "caminho_da_pasta = 'C:\\\\Users\\\\weder\\\\Documents\\\\RipEstrategia\\\\CNU - Eixo Temático 5 - Direito do Trabalho\\\\Aula 01 - Prof. Antonio Daud'\n",
    "\n",
    "pagina_questoes = encontrar_pagina_questoes(caminho_da_pasta)\n",
    "\n",
    "if pagina_questoes is not None:\n",
    "    print(\"A página onde 'Questões' foi encontrado é:\", pagina_questoes)\n"
   ]
  },
  {
   "cell_type": "code",
   "execution_count": 60,
   "id": "ddc74a6f",
   "metadata": {},
   "outputs": [
    {
     "name": "stdout",
     "output_type": "stream",
     "text": [
      "Indice encontrado na página 2\n",
      "{'/Producer': 'FPDF 1.86', '/CreationDate': \"D:20240210132906+00'00'\"}\n"
     ]
    }
   ],
   "source": [
    "import pandas as pd\n",
    "import os\n",
    "from PyPDF2 import PdfReader\n",
    "\n",
    "caminho_da_pasta = 'C:\\\\Users\\\\weder\\\\Documents\\\\RipEstrategia\\\\CNU - Eixo Temático 5 - Direito do Trabalho\\\\Aula 01 - Prof. Antonio Daud\\\\Aula 01 - Prof. Antonio Daud_simplificado.pdf'\n",
    "\n",
    "with open(caminho_da_pasta, 'rb') as f:\n",
    "    reader = PdfReader(f)\n",
    "    \n",
    "    for i in range(1, len(reader.pages)):\n",
    "        page_text = reader.pages[i].extract_text()\n",
    "        \n",
    "        if \"Índice\" or \"Sumário\" in page_text:\n",
    "            num_pag_indice = i\n",
    "            break\n",
    "            \n",
    "    print (f'Indice encontrado na página {num_pag_indice+1}')\n",
    "    \n",
    "    pagina_indice = reader.pages[num_pag_indice].extract_text()\n",
    "#     print(pagina_indice)\n",
    "\n",
    "#     layers = reader.get_layers()\n",
    "    \n",
    "    print(reader.metadata)\n",
    "    \n",
    "    \n",
    "    \n",
    "            \n",
    "            \n",
    "\n",
    "  \n",
    "\n"
   ]
  },
  {
   "cell_type": "code",
   "execution_count": 50,
   "id": "843dc6b0",
   "metadata": {},
   "outputs": [
    {
     "name": "stdout",
     "output_type": "stream",
     "text": [
      "['__class__', '__delattr__', '__dict__', '__dir__', '__doc__', '__eq__', '__format__', '__ge__', '__getattribute__', '__getstate__', '__gt__', '__hash__', '__init__', '__init_subclass__', '__le__', '__lt__', '__module__', '__ne__', '__new__', '__reduce__', '__reduce_ex__', '__repr__', '__setattr__', '__sizeof__', '__str__', '__subclasshook__', '__weakref__', '_basic_validation', '_build_destination', '_build_field', '_build_outline_item', '_check_kids', '_encryption', '_find_eof_marker', '_find_startxref_pos', '_flatten', '_get_indirect_object', '_get_named_destinations', '_get_num_pages', '_get_object_from_stream', '_get_outline', '_get_page', '_get_page_number_by_indirect', '_get_xref_issues', '_override_encryption', '_page_id2num', '_pairs', '_read_pdf15_xref_stream', '_read_standard_xref_table', '_read_xref', '_read_xref_other_error', '_read_xref_subsections', '_read_xref_tables_and_trailers', '_rebuild_xref_table', '_write_field', 'cacheGetIndirectObject', 'cacheIndirectObject', 'cache_get_indirect_object', 'cache_indirect_object', 'decode_permissions', 'decrypt', 'documentInfo', 'flattened_pages', 'getDestinationPageNumber', 'getDocumentInfo', 'getFields', 'getFormTextFields', 'getIsEncrypted', 'getNamedDestinations', 'getNumPages', 'getObject', 'getOutlines', 'getPage', 'getPageLayout', 'getPageMode', 'getPageNumber', 'getXmpMetadata', 'get_destination_page_number', 'get_fields', 'get_form_text_fields', 'get_object', 'get_page_number', 'isEncrypted', 'is_encrypted', 'metadata', 'namedDestinations', 'named_destinations', 'numPages', 'outline', 'outlines', 'pageLayout', 'pageMode', 'page_layout', 'page_mode', 'pages', 'pdf_header', 'read', 'readNextEndLine', 'readObjectHeader', 'read_next_end_line', 'read_object_header', 'resolved_objects', 'stream', 'strict', 'threads', 'trailer', 'xfa', 'xmpMetadata', 'xmp_metadata', 'xref', 'xref_free_entry', 'xref_index', 'xref_objStm']\n"
     ]
    }
   ],
   "source": [
    "print(dir(reader))"
   ]
  },
  {
   "cell_type": "code",
   "execution_count": 51,
   "id": "4968c19f",
   "metadata": {},
   "outputs": [
    {
     "ename": "ValueError",
     "evalue": "seek of closed file",
     "output_type": "error",
     "traceback": [
      "\u001b[1;31m---------------------------------------------------------------------------\u001b[0m",
      "\u001b[1;31mValueError\u001b[0m                                Traceback (most recent call last)",
      "Cell \u001b[1;32mIn[51], line 1\u001b[0m\n\u001b[1;32m----> 1\u001b[0m \u001b[38;5;28mprint\u001b[39m(reader\u001b[38;5;241m.\u001b[39mmetadata)\n",
      "File \u001b[1;32m~\\anaconda3\\envs\\RipEstrategia\\Lib\\site-packages\\PyPDF2\\_reader.py:371\u001b[0m, in \u001b[0;36mPdfReader.metadata\u001b[1;34m(self)\u001b[0m\n\u001b[0;32m    369\u001b[0m \u001b[38;5;28;01mif\u001b[39;00m TK\u001b[38;5;241m.\u001b[39mINFO \u001b[38;5;129;01mnot\u001b[39;00m \u001b[38;5;129;01min\u001b[39;00m \u001b[38;5;28mself\u001b[39m\u001b[38;5;241m.\u001b[39mtrailer:\n\u001b[0;32m    370\u001b[0m     \u001b[38;5;28;01mreturn\u001b[39;00m \u001b[38;5;28;01mNone\u001b[39;00m\n\u001b[1;32m--> 371\u001b[0m obj \u001b[38;5;241m=\u001b[39m \u001b[38;5;28mself\u001b[39m\u001b[38;5;241m.\u001b[39mtrailer[TK\u001b[38;5;241m.\u001b[39mINFO]\n\u001b[0;32m    372\u001b[0m retval \u001b[38;5;241m=\u001b[39m DocumentInformation()\n\u001b[0;32m    373\u001b[0m \u001b[38;5;28;01mif\u001b[39;00m \u001b[38;5;28misinstance\u001b[39m(obj, \u001b[38;5;28mtype\u001b[39m(\u001b[38;5;28;01mNone\u001b[39;00m)):\n",
      "File \u001b[1;32m~\\anaconda3\\envs\\RipEstrategia\\Lib\\site-packages\\PyPDF2\\generic\\_data_structures.py:266\u001b[0m, in \u001b[0;36mDictionaryObject.__getitem__\u001b[1;34m(self, key)\u001b[0m\n\u001b[0;32m    265\u001b[0m \u001b[38;5;28;01mdef\u001b[39;00m \u001b[38;5;21m__getitem__\u001b[39m(\u001b[38;5;28mself\u001b[39m, key: Any) \u001b[38;5;241m-\u001b[39m\u001b[38;5;241m>\u001b[39m PdfObject:\n\u001b[1;32m--> 266\u001b[0m     \u001b[38;5;28;01mreturn\u001b[39;00m \u001b[38;5;28mdict\u001b[39m\u001b[38;5;241m.\u001b[39m\u001b[38;5;21m__getitem__\u001b[39m(\u001b[38;5;28mself\u001b[39m, key)\u001b[38;5;241m.\u001b[39mget_object()\n",
      "File \u001b[1;32m~\\anaconda3\\envs\\RipEstrategia\\Lib\\site-packages\\PyPDF2\\generic\\_base.py:259\u001b[0m, in \u001b[0;36mIndirectObject.get_object\u001b[1;34m(self)\u001b[0m\n\u001b[0;32m    258\u001b[0m \u001b[38;5;28;01mdef\u001b[39;00m \u001b[38;5;21mget_object\u001b[39m(\u001b[38;5;28mself\u001b[39m) \u001b[38;5;241m-\u001b[39m\u001b[38;5;241m>\u001b[39m Optional[\u001b[38;5;124m\"\u001b[39m\u001b[38;5;124mPdfObject\u001b[39m\u001b[38;5;124m\"\u001b[39m]:\n\u001b[1;32m--> 259\u001b[0m     obj \u001b[38;5;241m=\u001b[39m \u001b[38;5;28mself\u001b[39m\u001b[38;5;241m.\u001b[39mpdf\u001b[38;5;241m.\u001b[39mget_object(\u001b[38;5;28mself\u001b[39m)\n\u001b[0;32m    260\u001b[0m     \u001b[38;5;28;01mif\u001b[39;00m obj \u001b[38;5;129;01mis\u001b[39;00m \u001b[38;5;28;01mNone\u001b[39;00m:\n\u001b[0;32m    261\u001b[0m         \u001b[38;5;28;01mreturn\u001b[39;00m \u001b[38;5;28;01mNone\u001b[39;00m\n",
      "File \u001b[1;32m~\\anaconda3\\envs\\RipEstrategia\\Lib\\site-packages\\PyPDF2\\_reader.py:1215\u001b[0m, in \u001b[0;36mPdfReader.get_object\u001b[1;34m(self, indirect_reference)\u001b[0m\n\u001b[0;32m   1213\u001b[0m     \u001b[38;5;28;01mreturn\u001b[39;00m NullObject()\n\u001b[0;32m   1214\u001b[0m start \u001b[38;5;241m=\u001b[39m \u001b[38;5;28mself\u001b[39m\u001b[38;5;241m.\u001b[39mxref[indirect_reference\u001b[38;5;241m.\u001b[39mgeneration][indirect_reference\u001b[38;5;241m.\u001b[39midnum]\n\u001b[1;32m-> 1215\u001b[0m \u001b[38;5;28mself\u001b[39m\u001b[38;5;241m.\u001b[39mstream\u001b[38;5;241m.\u001b[39mseek(start, \u001b[38;5;241m0\u001b[39m)\n\u001b[0;32m   1216\u001b[0m \u001b[38;5;28;01mtry\u001b[39;00m:\n\u001b[0;32m   1217\u001b[0m     idnum, generation \u001b[38;5;241m=\u001b[39m \u001b[38;5;28mself\u001b[39m\u001b[38;5;241m.\u001b[39mread_object_header(\u001b[38;5;28mself\u001b[39m\u001b[38;5;241m.\u001b[39mstream)\n",
      "\u001b[1;31mValueError\u001b[0m: seek of closed file"
     ]
    }
   ],
   "source": []
  },
  {
   "cell_type": "code",
   "execution_count": null,
   "id": "c61683db",
   "metadata": {},
   "outputs": [],
   "source": []
  }
 ],
 "metadata": {
  "kernelspec": {
   "display_name": "Python 3 (ipykernel)",
   "language": "python",
   "name": "python3"
  },
  "language_info": {
   "codemirror_mode": {
    "name": "ipython",
    "version": 3
   },
   "file_extension": ".py",
   "mimetype": "text/x-python",
   "name": "python",
   "nbconvert_exporter": "python",
   "pygments_lexer": "ipython3",
   "version": "3.11.5"
  }
 },
 "nbformat": 4,
 "nbformat_minor": 5
}
